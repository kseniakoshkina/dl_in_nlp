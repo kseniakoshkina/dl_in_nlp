{
 "cells": [
  {
   "cell_type": "code",
   "execution_count": 610,
   "metadata": {},
   "outputs": [],
   "source": [
    "import json\n",
    "import random\n",
    "from tqdm import tqdm\n",
    "import numpy as np\n",
    "\n",
    "from matplotlib import pyplot as plt\n",
    "from sklearn.decomposition import TruncatedSVD\n",
    "from sklearn.manifold import TSNE\n",
    "\n",
    "import torch\n",
    "\n",
    "from pylab import rcParams\n",
    "rcParams['figure.figsize'] = 15, 15"
   ]
  },
  {
   "cell_type": "markdown",
   "metadata": {},
   "source": [
    "# Что делать?\n",
    "Где есть пометка # CODE писать код\n",
    "\n",
    "[Полезный туториал](http://jalammar.github.io/illustrated-word2vec/)"
   ]
  },
  {
   "cell_type": "markdown",
   "metadata": {},
   "source": [
    "# Загружаем данные\n",
    "Они уже обработанные и токенизированные. Процесс можно посмотреть в тетрадке 1.1 Processing corpus"
   ]
  },
  {
   "cell_type": "code",
   "execution_count": 611,
   "metadata": {},
   "outputs": [],
   "source": [
    "with open('data/processed_corpus.json') as f:\n",
    "    corpus = json.load(f)"
   ]
  },
  {
   "cell_type": "code",
   "execution_count": 612,
   "metadata": {},
   "outputs": [
    {
     "data": {
      "text/plain": [
       "100000"
      ]
     },
     "execution_count": 612,
     "metadata": {},
     "output_type": "execute_result"
    }
   ],
   "source": [
    "len(corpus)"
   ]
  },
  {
   "cell_type": "code",
   "execution_count": 613,
   "metadata": {},
   "outputs": [
    {
     "name": "stdout",
     "output_type": "stream",
     "text": [
      "второй UNK год окончательно разочаровать решить податься альфабанк\n",
      "вернуть денежный средство лицевой счёт либо зачесть счёт погашение кредит\n",
      "притом ситуация решиться участие течение сутки заявить\n",
      "мой ##число летний жизнь это самый неповоротливый работник банк который видеть\n",
      "везде написать вклад принимать очередь это\n"
     ]
    }
   ],
   "source": [
    "for text in corpus[:5]:\n",
    "    print(' '.join(text))"
   ]
  },
  {
   "cell_type": "markdown",
   "metadata": {},
   "source": [
    "# CBOW"
   ]
  },
  {
   "cell_type": "code",
   "execution_count": 614,
   "metadata": {},
   "outputs": [],
   "source": [
    "sample_text = corpus[1]"
   ]
  },
  {
   "cell_type": "code",
   "execution_count": 615,
   "metadata": {},
   "outputs": [
    {
     "data": {
      "text/plain": [
       "'вернуть денежный средство лицевой счёт либо зачесть счёт погашение кредит'"
      ]
     },
     "execution_count": 615,
     "metadata": {},
     "output_type": "execute_result"
    }
   ],
   "source": [
    "' '.join(sample_text)"
   ]
  },
  {
   "cell_type": "markdown",
   "metadata": {},
   "source": [
    "# Реализуйте разделение предложения на примеры методом CBOW"
   ]
  },
  {
   "cell_type": "code",
   "execution_count": 616,
   "metadata": {},
   "outputs": [],
   "source": [
    "def cbow_split(tokens, window, pad_token='PAD'):\n",
    "    \n",
    "    splits = []\n",
    "    # CODE\n",
    "    padding = window * [pad_token]\n",
    "    text = padding + tokens + padding\n",
    "    \n",
    "    for element in tokens:\n",
    "        left_context = text[text.index(element)-window:text.index(element)]\n",
    "        element = text[text.index(element)]\n",
    "        right_context = text[text.index(element)+1:text.index(element)+1+window]\n",
    "        splits.append((left_context, element, right_context))\n",
    "        \n",
    "    return splits"
   ]
  },
  {
   "cell_type": "code",
   "execution_count": 617,
   "metadata": {},
   "outputs": [],
   "source": [
    "splits = cbow_split(sample_text, window=2)"
   ]
  },
  {
   "cell_type": "code",
   "execution_count": 618,
   "metadata": {},
   "outputs": [
    {
     "name": "stdout",
     "output_type": "stream",
     "text": [
      "Левый контекст: ['PAD', 'PAD']\n",
      "Центральное слово: вернуть\n",
      "Правый контекст: ['денежный', 'средство']\n",
      "\n",
      "Левый контекст: ['PAD', 'вернуть']\n",
      "Центральное слово: денежный\n",
      "Правый контекст: ['средство', 'лицевой']\n",
      "\n",
      "Левый контекст: ['вернуть', 'денежный']\n",
      "Центральное слово: средство\n",
      "Правый контекст: ['лицевой', 'счёт']\n",
      "\n",
      "Левый контекст: ['денежный', 'средство']\n",
      "Центральное слово: лицевой\n",
      "Правый контекст: ['счёт', 'либо']\n",
      "\n",
      "Левый контекст: ['средство', 'лицевой']\n",
      "Центральное слово: счёт\n",
      "Правый контекст: ['либо', 'зачесть']\n",
      "\n",
      "Левый контекст: ['лицевой', 'счёт']\n",
      "Центральное слово: либо\n",
      "Правый контекст: ['зачесть', 'счёт']\n",
      "\n",
      "Левый контекст: ['счёт', 'либо']\n",
      "Центральное слово: зачесть\n",
      "Правый контекст: ['счёт', 'погашение']\n",
      "\n",
      "Левый контекст: ['средство', 'лицевой']\n",
      "Центральное слово: счёт\n",
      "Правый контекст: ['либо', 'зачесть']\n",
      "\n",
      "Левый контекст: ['зачесть', 'счёт']\n",
      "Центральное слово: погашение\n",
      "Правый контекст: ['кредит', 'PAD']\n",
      "\n",
      "Левый контекст: ['счёт', 'погашение']\n",
      "Центральное слово: кредит\n",
      "Правый контекст: ['PAD', 'PAD']\n",
      "\n"
     ]
    }
   ],
   "source": [
    "for sample in splits:\n",
    "    print('Левый контекст:', sample[0])\n",
    "    print('Центральное слово:', sample[1])\n",
    "    print('Правый контекст:', sample[2], end='\\n\\n')"
   ]
  },
  {
   "cell_type": "code",
   "execution_count": 619,
   "metadata": {},
   "outputs": [
    {
     "data": {
      "text/plain": [
       "[(['PAD', 'PAD'], 'вернуть', ['денежный', 'средство']),\n",
       " (['PAD', 'вернуть'], 'денежный', ['средство', 'лицевой']),\n",
       " (['вернуть', 'денежный'], 'средство', ['лицевой', 'счёт']),\n",
       " (['денежный', 'средство'], 'лицевой', ['счёт', 'либо']),\n",
       " (['средство', 'лицевой'], 'счёт', ['либо', 'зачесть']),\n",
       " (['лицевой', 'счёт'], 'либо', ['зачесть', 'счёт']),\n",
       " (['счёт', 'либо'], 'зачесть', ['счёт', 'погашение']),\n",
       " (['средство', 'лицевой'], 'счёт', ['либо', 'зачесть']),\n",
       " (['зачесть', 'счёт'], 'погашение', ['кредит', 'PAD']),\n",
       " (['счёт', 'погашение'], 'кредит', ['PAD', 'PAD'])]"
      ]
     },
     "execution_count": 619,
     "metadata": {},
     "output_type": "execute_result"
    }
   ],
   "source": [
    "splits"
   ]
  },
  {
   "cell_type": "markdown",
   "metadata": {},
   "source": [
    "# Expected\n",
    "\n",
    "```python\n",
    "[(['PAD', 'PAD'], 'вопрос', ['почему', 'например']),\n",
    " (['PAD', 'вопрос'], 'почему', ['например', 'китайский']),\n",
    " (['вопрос', 'почему'], 'например', ['китайский', 'японский']),\n",
    " (['почему', 'например'], 'китайский', ['японский', 'UNK']),\n",
    " (['например', 'китайский'], 'японский', ['UNK', 'PAD']),\n",
    " (['китайский', 'японский'], 'UNK', ['PAD', 'PAD'])]\n",
    "```"
   ]
  },
  {
   "cell_type": "code",
   "execution_count": 620,
   "metadata": {},
   "outputs": [
    {
     "data": {
      "text/plain": [
       "[(['PAD', 'PAD', 'PAD'], 'вернуть', ['денежный', 'средство', 'лицевой']),\n",
       " (['PAD', 'PAD', 'вернуть'], 'денежный', ['средство', 'лицевой', 'счёт']),\n",
       " (['PAD', 'вернуть', 'денежный'], 'средство', ['лицевой', 'счёт', 'либо']),\n",
       " (['вернуть', 'денежный', 'средство'], 'лицевой', ['счёт', 'либо', 'зачесть']),\n",
       " (['денежный', 'средство', 'лицевой'], 'счёт', ['либо', 'зачесть', 'счёт']),\n",
       " (['средство', 'лицевой', 'счёт'], 'либо', ['зачесть', 'счёт', 'погашение']),\n",
       " (['лицевой', 'счёт', 'либо'], 'зачесть', ['счёт', 'погашение', 'кредит']),\n",
       " (['денежный', 'средство', 'лицевой'], 'счёт', ['либо', 'зачесть', 'счёт']),\n",
       " (['либо', 'зачесть', 'счёт'], 'погашение', ['кредит', 'PAD', 'PAD']),\n",
       " (['зачесть', 'счёт', 'погашение'], 'кредит', ['PAD', 'PAD', 'PAD'])]"
      ]
     },
     "execution_count": 620,
     "metadata": {},
     "output_type": "execute_result"
    }
   ],
   "source": [
    "cbow_split(sample_text, window=3)"
   ]
  },
  {
   "cell_type": "markdown",
   "metadata": {},
   "source": [
    "# Expected\n",
    "\n",
    "```python\n",
    "[(['PAD', 'PAD', 'PAD'], 'вопрос', ['почему', 'например', 'китайский']),\n",
    " (['PAD', 'PAD', 'вопрос'], 'почему', ['например', 'китайский', 'японский']),\n",
    " (['PAD', 'вопрос', 'почему'], 'например', ['китайский', 'японский', 'UNK']),\n",
    " (['вопрос', 'почему', 'например'], 'китайский', ['японский', 'UNK', 'PAD']),\n",
    " (['почему', 'например', 'китайский'], 'японский', ['UNK', 'PAD', 'PAD']),\n",
    " (['например', 'китайский', 'японский'], 'UNK', ['PAD', 'PAD', 'PAD'])]\n",
    "```"
   ]
  },
  {
   "cell_type": "markdown",
   "metadata": {},
   "source": [
    "# Skipgram"
   ]
  },
  {
   "cell_type": "code",
   "execution_count": 621,
   "metadata": {},
   "outputs": [
    {
     "data": {
      "text/plain": [
       "'вернуть денежный средство лицевой счёт либо зачесть счёт погашение кредит'"
      ]
     },
     "execution_count": 621,
     "metadata": {},
     "output_type": "execute_result"
    }
   ],
   "source": [
    "' '.join(sample_text)"
   ]
  },
  {
   "cell_type": "markdown",
   "metadata": {},
   "source": [
    "# Реализуйте разделение предложения на примеры методом Skipgram"
   ]
  },
  {
   "cell_type": "code",
   "execution_count": 622,
   "metadata": {},
   "outputs": [],
   "source": [
    "def skipgram_split(tokens, window):\n",
    "    \n",
    "    splits = []\n",
    "    \n",
    "    # CODE\n",
    "    for i in range(len(tokens)):\n",
    "        if i-window < 1:\n",
    "            start = 0\n",
    "        else:\n",
    "            start = i-window\n",
    "        if i+1+window < len(tokens)-1:\n",
    "            finish = i+1+window\n",
    "        else:\n",
    "            finish = len(tokens)-1\n",
    "        left_context = tokens[start:i]\n",
    "        word = tokens[i]\n",
    "        right_context = tokens[i+1:finish]\n",
    "        for el in left_context+right_context:\n",
    "            splits.append((el, word))\n",
    "    return splits"
   ]
  },
  {
   "cell_type": "code",
   "execution_count": 623,
   "metadata": {},
   "outputs": [],
   "source": [
    "splits = skipgram_split(sample_text, window=2)"
   ]
  },
  {
   "cell_type": "code",
   "execution_count": 624,
   "metadata": {},
   "outputs": [
    {
     "name": "stdout",
     "output_type": "stream",
     "text": [
      "Контекст: денежный\n",
      "Центральное слово: вернуть\n",
      "\n",
      "Контекст: средство\n",
      "Центральное слово: вернуть\n",
      "\n",
      "Контекст: вернуть\n",
      "Центральное слово: денежный\n",
      "\n",
      "Контекст: средство\n",
      "Центральное слово: денежный\n",
      "\n",
      "Контекст: лицевой\n",
      "Центральное слово: денежный\n",
      "\n",
      "Контекст: вернуть\n",
      "Центральное слово: средство\n",
      "\n",
      "Контекст: денежный\n",
      "Центральное слово: средство\n",
      "\n",
      "Контекст: лицевой\n",
      "Центральное слово: средство\n",
      "\n",
      "Контекст: счёт\n",
      "Центральное слово: средство\n",
      "\n",
      "Контекст: денежный\n",
      "Центральное слово: лицевой\n",
      "\n",
      "Контекст: средство\n",
      "Центральное слово: лицевой\n",
      "\n",
      "Контекст: счёт\n",
      "Центральное слово: лицевой\n",
      "\n",
      "Контекст: либо\n",
      "Центральное слово: лицевой\n",
      "\n",
      "Контекст: средство\n",
      "Центральное слово: счёт\n",
      "\n",
      "Контекст: лицевой\n",
      "Центральное слово: счёт\n",
      "\n",
      "Контекст: либо\n",
      "Центральное слово: счёт\n",
      "\n",
      "Контекст: зачесть\n",
      "Центральное слово: счёт\n",
      "\n",
      "Контекст: лицевой\n",
      "Центральное слово: либо\n",
      "\n",
      "Контекст: счёт\n",
      "Центральное слово: либо\n",
      "\n",
      "Контекст: зачесть\n",
      "Центральное слово: либо\n",
      "\n",
      "Контекст: счёт\n",
      "Центральное слово: либо\n",
      "\n",
      "Контекст: счёт\n",
      "Центральное слово: зачесть\n",
      "\n",
      "Контекст: либо\n",
      "Центральное слово: зачесть\n",
      "\n",
      "Контекст: счёт\n",
      "Центральное слово: зачесть\n",
      "\n",
      "Контекст: погашение\n",
      "Центральное слово: зачесть\n",
      "\n",
      "Контекст: либо\n",
      "Центральное слово: счёт\n",
      "\n",
      "Контекст: зачесть\n",
      "Центральное слово: счёт\n",
      "\n",
      "Контекст: погашение\n",
      "Центральное слово: счёт\n",
      "\n",
      "Контекст: зачесть\n",
      "Центральное слово: погашение\n",
      "\n",
      "Контекст: счёт\n",
      "Центральное слово: погашение\n",
      "\n",
      "Контекст: счёт\n",
      "Центральное слово: кредит\n",
      "\n",
      "Контекст: погашение\n",
      "Центральное слово: кредит\n",
      "\n"
     ]
    }
   ],
   "source": [
    "for sample in splits:\n",
    "    print('Контекст:', sample[0])\n",
    "    print('Центральное слово:', sample[1], end='\\n\\n')"
   ]
  },
  {
   "cell_type": "code",
   "execution_count": 625,
   "metadata": {},
   "outputs": [
    {
     "name": "stdout",
     "output_type": "stream",
     "text": [
      "Контекст: денежный\n",
      "Центральное слово: вернуть\n",
      "\n",
      "Контекст: средство\n",
      "Центральное слово: вернуть\n",
      "\n",
      "Контекст: вернуть\n",
      "Центральное слово: денежный\n",
      "\n",
      "Контекст: средство\n",
      "Центральное слово: денежный\n",
      "\n",
      "Контекст: лицевой\n",
      "Центральное слово: денежный\n",
      "\n",
      "Контекст: вернуть\n",
      "Центральное слово: средство\n",
      "\n",
      "Контекст: денежный\n",
      "Центральное слово: средство\n",
      "\n",
      "Контекст: лицевой\n",
      "Центральное слово: средство\n",
      "\n",
      "Контекст: счёт\n",
      "Центральное слово: средство\n",
      "\n",
      "Контекст: денежный\n",
      "Центральное слово: лицевой\n",
      "\n",
      "Контекст: средство\n",
      "Центральное слово: лицевой\n",
      "\n",
      "Контекст: счёт\n",
      "Центральное слово: лицевой\n",
      "\n",
      "Контекст: либо\n",
      "Центральное слово: лицевой\n",
      "\n",
      "Контекст: средство\n",
      "Центральное слово: счёт\n",
      "\n",
      "Контекст: лицевой\n",
      "Центральное слово: счёт\n",
      "\n",
      "Контекст: либо\n",
      "Центральное слово: счёт\n",
      "\n",
      "Контекст: зачесть\n",
      "Центральное слово: счёт\n",
      "\n",
      "Контекст: лицевой\n",
      "Центральное слово: либо\n",
      "\n",
      "Контекст: счёт\n",
      "Центральное слово: либо\n",
      "\n",
      "Контекст: зачесть\n",
      "Центральное слово: либо\n",
      "\n",
      "Контекст: счёт\n",
      "Центральное слово: либо\n",
      "\n",
      "Контекст: счёт\n",
      "Центральное слово: зачесть\n",
      "\n",
      "Контекст: либо\n",
      "Центральное слово: зачесть\n",
      "\n",
      "Контекст: счёт\n",
      "Центральное слово: зачесть\n",
      "\n",
      "Контекст: погашение\n",
      "Центральное слово: зачесть\n",
      "\n",
      "Контекст: либо\n",
      "Центральное слово: счёт\n",
      "\n",
      "Контекст: зачесть\n",
      "Центральное слово: счёт\n",
      "\n",
      "Контекст: погашение\n",
      "Центральное слово: счёт\n",
      "\n",
      "Контекст: зачесть\n",
      "Центральное слово: погашение\n",
      "\n",
      "Контекст: счёт\n",
      "Центральное слово: погашение\n",
      "\n",
      "Контекст: счёт\n",
      "Центральное слово: кредит\n",
      "\n",
      "Контекст: погашение\n",
      "Центральное слово: кредит\n",
      "\n"
     ]
    }
   ],
   "source": [
    "for sample in splits:\n",
    "    print('Контекст:', sample[0])\n",
    "    print('Центральное слово:', sample[1], end='\\n\\n')"
   ]
  },
  {
   "cell_type": "code",
   "execution_count": 626,
   "metadata": {},
   "outputs": [
    {
     "data": {
      "text/plain": [
       "[('денежный', 'вернуть'),\n",
       " ('средство', 'вернуть'),\n",
       " ('вернуть', 'денежный'),\n",
       " ('средство', 'денежный'),\n",
       " ('лицевой', 'денежный'),\n",
       " ('вернуть', 'средство'),\n",
       " ('денежный', 'средство'),\n",
       " ('лицевой', 'средство'),\n",
       " ('счёт', 'средство'),\n",
       " ('денежный', 'лицевой'),\n",
       " ('средство', 'лицевой'),\n",
       " ('счёт', 'лицевой'),\n",
       " ('либо', 'лицевой'),\n",
       " ('средство', 'счёт'),\n",
       " ('лицевой', 'счёт'),\n",
       " ('либо', 'счёт'),\n",
       " ('зачесть', 'счёт'),\n",
       " ('лицевой', 'либо'),\n",
       " ('счёт', 'либо'),\n",
       " ('зачесть', 'либо'),\n",
       " ('счёт', 'либо'),\n",
       " ('счёт', 'зачесть'),\n",
       " ('либо', 'зачесть'),\n",
       " ('счёт', 'зачесть'),\n",
       " ('погашение', 'зачесть'),\n",
       " ('либо', 'счёт'),\n",
       " ('зачесть', 'счёт'),\n",
       " ('погашение', 'счёт'),\n",
       " ('зачесть', 'погашение'),\n",
       " ('счёт', 'погашение'),\n",
       " ('счёт', 'кредит'),\n",
       " ('погашение', 'кредит')]"
      ]
     },
     "execution_count": 626,
     "metadata": {},
     "output_type": "execute_result"
    }
   ],
   "source": [
    "skipgram_split(sample_text, window=2)"
   ]
  },
  {
   "cell_type": "code",
   "execution_count": 627,
   "metadata": {},
   "outputs": [
    {
     "data": {
      "text/plain": [
       "['вернуть',\n",
       " 'денежный',\n",
       " 'средство',\n",
       " 'лицевой',\n",
       " 'счёт',\n",
       " 'либо',\n",
       " 'зачесть',\n",
       " 'счёт',\n",
       " 'погашение',\n",
       " 'кредит']"
      ]
     },
     "execution_count": 627,
     "metadata": {},
     "output_type": "execute_result"
    }
   ],
   "source": [
    "sample_text"
   ]
  },
  {
   "cell_type": "markdown",
   "metadata": {},
   "source": [
    "# Expected\n",
    "\n",
    "```python\n",
    "[('почему', 'вопрос'),\n",
    " ('например', 'вопрос'),\n",
    " ('вопрос', 'почему'),\n",
    " ('например', 'почему'),\n",
    " ('китайский', 'почему'),\n",
    " ('вопрос', 'например'),\n",
    " ('почему', 'например'),\n",
    " ('китайский', 'например'),\n",
    " ('японский', 'например'),\n",
    " ('почему', 'китайский'),\n",
    " ('например', 'китайский'),\n",
    " ('японский', 'китайский'),\n",
    " ('UNK', 'китайский'),\n",
    " ('например', 'японский'),\n",
    " ('китайский', 'японский'),\n",
    " ('UNK', 'японский'),\n",
    " ('китайский', 'UNK'),\n",
    " ('японский', 'UNK')]\n",
    "```"
   ]
  },
  {
   "cell_type": "code",
   "execution_count": 628,
   "metadata": {},
   "outputs": [
    {
     "data": {
      "text/plain": [
       "[('денежный', 'вернуть'),\n",
       " ('средство', 'вернуть'),\n",
       " ('лицевой', 'вернуть'),\n",
       " ('вернуть', 'денежный'),\n",
       " ('средство', 'денежный'),\n",
       " ('лицевой', 'денежный'),\n",
       " ('счёт', 'денежный'),\n",
       " ('вернуть', 'средство'),\n",
       " ('денежный', 'средство'),\n",
       " ('лицевой', 'средство'),\n",
       " ('счёт', 'средство'),\n",
       " ('либо', 'средство'),\n",
       " ('вернуть', 'лицевой'),\n",
       " ('денежный', 'лицевой'),\n",
       " ('средство', 'лицевой'),\n",
       " ('счёт', 'лицевой'),\n",
       " ('либо', 'лицевой'),\n",
       " ('зачесть', 'лицевой'),\n",
       " ('денежный', 'счёт'),\n",
       " ('средство', 'счёт'),\n",
       " ('лицевой', 'счёт'),\n",
       " ('либо', 'счёт'),\n",
       " ('зачесть', 'счёт'),\n",
       " ('счёт', 'счёт'),\n",
       " ('средство', 'либо'),\n",
       " ('лицевой', 'либо'),\n",
       " ('счёт', 'либо'),\n",
       " ('зачесть', 'либо'),\n",
       " ('счёт', 'либо'),\n",
       " ('погашение', 'либо'),\n",
       " ('лицевой', 'зачесть'),\n",
       " ('счёт', 'зачесть'),\n",
       " ('либо', 'зачесть'),\n",
       " ('счёт', 'зачесть'),\n",
       " ('погашение', 'зачесть'),\n",
       " ('счёт', 'счёт'),\n",
       " ('либо', 'счёт'),\n",
       " ('зачесть', 'счёт'),\n",
       " ('погашение', 'счёт'),\n",
       " ('либо', 'погашение'),\n",
       " ('зачесть', 'погашение'),\n",
       " ('счёт', 'погашение'),\n",
       " ('зачесть', 'кредит'),\n",
       " ('счёт', 'кредит'),\n",
       " ('погашение', 'кредит')]"
      ]
     },
     "execution_count": 628,
     "metadata": {},
     "output_type": "execute_result"
    }
   ],
   "source": [
    "skipgram_split(sample_text, window=3)"
   ]
  },
  {
   "cell_type": "markdown",
   "metadata": {},
   "source": [
    "# Expected\n",
    "\n",
    "```python\n",
    "[('почему', 'вопрос'),\n",
    " ('например', 'вопрос'),\n",
    " ('китайский', 'вопрос'),\n",
    " ('вопрос', 'почему'),\n",
    " ('например', 'почему'),\n",
    " ('китайский', 'почему'),\n",
    " ('японский', 'почему'),\n",
    " ('вопрос', 'например'),\n",
    " ('почему', 'например'),\n",
    " ('китайский', 'например'),\n",
    " ('японский', 'например'),\n",
    " ('UNK', 'например'),\n",
    " ('вопрос', 'китайский'),\n",
    " ('почему', 'китайский'),\n",
    " ('например', 'китайский'),\n",
    " ('японский', 'китайский'),\n",
    " ('UNK', 'китайский'),\n",
    " ('почему', 'японский'),\n",
    " ('например', 'японский'),\n",
    " ('китайский', 'японский'),\n",
    " ('UNK', 'японский'),\n",
    " ('например', 'UNK'),\n",
    " ('китайский', 'UNK'),\n",
    " ('японский', 'UNK')]\n",
    "```"
   ]
  },
  {
   "cell_type": "code",
   "execution_count": 629,
   "metadata": {},
   "outputs": [],
   "source": [
    "word2index = {}\n",
    "\n",
    "for text in corpus:\n",
    "    for token in text:\n",
    "        if token not in word2index:\n",
    "            word2index[token] = len(word2index)"
   ]
  },
  {
   "cell_type": "code",
   "execution_count": 630,
   "metadata": {},
   "outputs": [
    {
     "data": {
      "text/plain": [
       "13076"
      ]
     },
     "execution_count": 630,
     "metadata": {},
     "output_type": "execute_result"
    }
   ],
   "source": [
    "len(word2index)"
   ]
  },
  {
   "cell_type": "code",
   "execution_count": 631,
   "metadata": {},
   "outputs": [
    {
     "data": {
      "text/plain": [
       "1"
      ]
     },
     "execution_count": 631,
     "metadata": {},
     "output_type": "execute_result"
    }
   ],
   "source": [
    "word2index['UNK']"
   ]
  },
  {
   "cell_type": "code",
   "execution_count": 632,
   "metadata": {},
   "outputs": [
    {
     "data": {
      "text/plain": [
       "[1282, 8436, 1]"
      ]
     },
     "execution_count": 632,
     "metadata": {},
     "output_type": "execute_result"
    }
   ],
   "source": [
    "[word2index[tok] if tok in word2index else word2index['UNK'] for tok in 'мама мыть рама'.split()]"
   ]
  },
  {
   "cell_type": "markdown",
   "metadata": {},
   "source": [
    "# Torch Dataset\n",
    "В торче есть очень удобная читалка данных"
   ]
  },
  {
   "cell_type": "code",
   "execution_count": 633,
   "metadata": {},
   "outputs": [],
   "source": [
    "from torch.utils.data import Dataset, DataLoader"
   ]
  },
  {
   "cell_type": "code",
   "execution_count": 634,
   "metadata": {},
   "outputs": [],
   "source": [
    "# игрушечный датасет\n",
    "# 121535 примера, 4 фичи, 3 класса\n",
    "some_data_x = np.random.rand(121535, 4)\n",
    "some_data_y = np.random.randint(3, size=(121535,))"
   ]
  },
  {
   "cell_type": "code",
   "execution_count": 635,
   "metadata": {},
   "outputs": [
    {
     "data": {
      "text/plain": [
       "array([[0.7885171 , 0.91861323, 0.83014568, 0.0517151 ],\n",
       "       [0.82633864, 0.65786547, 0.86359133, 0.94970556],\n",
       "       [0.63485282, 0.50996398, 0.17125071, 0.74841574],\n",
       "       [0.81300808, 0.05483076, 0.69092998, 0.27233103],\n",
       "       [0.35410564, 0.5564573 , 0.20501993, 0.13964605],\n",
       "       [0.90202718, 0.17773747, 0.25256117, 0.91322573],\n",
       "       [0.95980902, 0.21851051, 0.66030629, 0.37559256],\n",
       "       [0.69878894, 0.46130054, 0.02259572, 0.31525002],\n",
       "       [0.73907429, 0.5412493 , 0.87015736, 0.48286723],\n",
       "       [0.74535849, 0.88910426, 0.85512624, 0.77020502]])"
      ]
     },
     "execution_count": 635,
     "metadata": {},
     "output_type": "execute_result"
    }
   ],
   "source": [
    "# соверешенно игрушечный, просто цифры\n",
    "some_data_x[:10]"
   ]
  },
  {
   "cell_type": "code",
   "execution_count": 636,
   "metadata": {},
   "outputs": [
    {
     "data": {
      "text/plain": [
       "array([1, 0, 1, ..., 2, 2, 0])"
      ]
     },
     "execution_count": 636,
     "metadata": {},
     "output_type": "execute_result"
    }
   ],
   "source": [
    "some_data_y"
   ]
  },
  {
   "cell_type": "code",
   "execution_count": 637,
   "metadata": {},
   "outputs": [],
   "source": [
    "class ToyDataset(Dataset):\n",
    "    \n",
    "    def __init__(self, data_x, data_y):\n",
    "        \n",
    "        super().__init__()\n",
    "        \n",
    "        self.data_x = data_x\n",
    "        self.data_y = data_y\n",
    "        \n",
    "    def __len__(self):\n",
    "        \n",
    "        # Нужно обязательно определить эту функцию\n",
    "        # Должна возвращать размер датасета\n",
    "        \n",
    "        return len(self.data_x)\n",
    "    \n",
    "    def __getitem__(self, idx):\n",
    "        \n",
    "        # Еще нужно определить этот метод\n",
    "        # То есть как мы будем доставать наши данные по индексу\n",
    "        \n",
    "        return self.data_x[idx], self.data_y[idx]"
   ]
  },
  {
   "cell_type": "code",
   "execution_count": 638,
   "metadata": {},
   "outputs": [],
   "source": [
    "some_dataset = ToyDataset(some_data_x, some_data_y)"
   ]
  },
  {
   "cell_type": "code",
   "execution_count": 639,
   "metadata": {},
   "outputs": [
    {
     "data": {
      "text/plain": [
       "((array([0.90202718, 0.17773747, 0.25256117, 0.91322573]), 0),\n",
       " (array([0.66864185, 0.58608472, 0.429865  , 0.94689932]), 1))"
      ]
     },
     "execution_count": 639,
     "metadata": {},
     "output_type": "execute_result"
    }
   ],
   "source": [
    "some_dataset[5], some_dataset[467]"
   ]
  },
  {
   "cell_type": "code",
   "execution_count": 640,
   "metadata": {},
   "outputs": [],
   "source": [
    "some_loader = DataLoader(some_dataset, batch_size=16, shuffle=True)"
   ]
  },
  {
   "cell_type": "code",
   "execution_count": 641,
   "metadata": {},
   "outputs": [
    {
     "data": {
      "text/plain": [
       "(16,\n",
       " tensor([[0.8483, 0.6194, 0.1619, 0.1652],\n",
       "         [0.2757, 0.2753, 0.9927, 0.6466],\n",
       "         [0.5653, 0.3099, 0.1753, 0.6024],\n",
       "         [0.7333, 0.7687, 0.1639, 0.1957],\n",
       "         [0.9573, 0.9508, 0.7545, 0.1726],\n",
       "         [0.5375, 0.8277, 0.2183, 0.0570],\n",
       "         [0.5105, 0.0367, 0.2057, 0.2335],\n",
       "         [0.9450, 0.3652, 0.7131, 0.2946],\n",
       "         [0.3669, 0.6997, 0.6324, 0.8807],\n",
       "         [0.7312, 0.9607, 0.0017, 0.7547],\n",
       "         [0.3265, 0.1646, 0.4398, 0.0574],\n",
       "         [0.2999, 0.0567, 0.9928, 0.0640],\n",
       "         [0.8900, 0.6472, 0.9212, 0.6259],\n",
       "         [0.1270, 0.4886, 0.7229, 0.1023],\n",
       "         [0.8063, 0.1246, 0.6391, 0.1128],\n",
       "         [0.7686, 0.0399, 0.0338, 0.0058]], dtype=torch.float64))"
      ]
     },
     "execution_count": 641,
     "metadata": {},
     "output_type": "execute_result"
    }
   ],
   "source": [
    "for x, y in some_loader:\n",
    "    break\n",
    "    \n",
    "len(x), x"
   ]
  },
  {
   "cell_type": "code",
   "execution_count": 642,
   "metadata": {},
   "outputs": [
    {
     "data": {
      "text/plain": [
       "15"
      ]
     },
     "execution_count": 642,
     "metadata": {},
     "output_type": "execute_result"
    }
   ],
   "source": [
    "for x, y in some_loader:\n",
    "    pass\n",
    "\n",
    "len(x)"
   ]
  },
  {
   "cell_type": "code",
   "execution_count": 643,
   "metadata": {},
   "outputs": [
    {
     "data": {
      "text/plain": [
       "15"
      ]
     },
     "execution_count": 643,
     "metadata": {},
     "output_type": "execute_result"
    }
   ],
   "source": [
    "# почему 13?\n",
    "# потому что количество наших данных нацело не делится на 16\n",
    "# и поэтому последний батч меньше 16-ти\n",
    "len(some_dataset) % 16"
   ]
  },
  {
   "cell_type": "markdown",
   "metadata": {},
   "source": [
    "# А зачем?"
   ]
  },
  {
   "cell_type": "code",
   "execution_count": 644,
   "metadata": {},
   "outputs": [],
   "source": [
    "class ToyDataset(Dataset):\n",
    "    \n",
    "    def __init__(self, data_x, data_y):\n",
    "        \n",
    "        super().__init__()\n",
    "        \n",
    "        self.data_x = data_x\n",
    "        self.data_y = data_y\n",
    "        \n",
    "    def __len__(self):\n",
    "        \n",
    "        # Нужно обязательно определить эту функцию\n",
    "        # Должна возвращать размер датасета\n",
    "        \n",
    "        return len(self.data_x)\n",
    "    \n",
    "    @staticmethod\n",
    "    def add_pow_features(x, n=2):\n",
    "        \n",
    "        return np.concatenate([x, x ** n]) \n",
    "    \n",
    "    @staticmethod\n",
    "    def add_log_features(x):\n",
    "        \n",
    "        return np.concatenate([x, np.log(x)]) \n",
    "    \n",
    "    def __getitem__(self, idx):\n",
    "        \n",
    "        # Еще нужно определить этот метод\n",
    "        # То есть как мы будем доставать наши данные по индексу\n",
    "        \n",
    "        x = self.data_x[idx]\n",
    "        \n",
    "        # внутри датасета мы можем делать все что угодно с нашими данными\n",
    "        # например выше определим функции, которые добавляют степенные фичи\n",
    "        x = self.add_pow_features(x, n=2)\n",
    "        x = self.add_pow_features(x, n=3)\n",
    "        # и еще возьмем логарифмические фичи\n",
    "        x = self.add_log_features(x)\n",
    "        \n",
    "        y = self.data_y[idx]\n",
    "        \n",
    "        return x, y"
   ]
  },
  {
   "cell_type": "code",
   "execution_count": 645,
   "metadata": {},
   "outputs": [],
   "source": [
    "toy_dataset = ToyDataset(some_data_x, some_data_y)"
   ]
  },
  {
   "cell_type": "code",
   "execution_count": 646,
   "metadata": {},
   "outputs": [],
   "source": [
    "toy_loader = DataLoader(dataset=toy_dataset, batch_size=128)"
   ]
  },
  {
   "cell_type": "code",
   "execution_count": 647,
   "metadata": {},
   "outputs": [],
   "source": [
    "for x, y in toy_loader:\n",
    "    break"
   ]
  },
  {
   "cell_type": "code",
   "execution_count": 648,
   "metadata": {},
   "outputs": [
    {
     "data": {
      "text/plain": [
       "torch.Size([128, 32])"
      ]
     },
     "execution_count": 648,
     "metadata": {},
     "output_type": "execute_result"
    }
   ],
   "source": [
    "x.shape"
   ]
  },
  {
   "cell_type": "code",
   "execution_count": 649,
   "metadata": {},
   "outputs": [
    {
     "data": {
      "text/plain": [
       "tensor([[  0.7885,   0.9186,   0.8301,  ...,  -0.5093,  -1.1169, -17.7720],\n",
       "        [  0.8263,   0.6579,   0.8636,  ...,  -2.5125,  -0.8799,  -0.3096],\n",
       "        [  0.6349,   0.5100,   0.1713,  ...,  -4.0405, -10.5878,  -1.7388],\n",
       "        ...,\n",
       "        [  0.2210,   0.6309,   0.6841,  ...,  -2.7638,  -2.2783,  -6.7216],\n",
       "        [  0.4562,   0.4506,   0.1899,  ...,  -4.7835,  -9.9684,  -0.3077],\n",
       "        [  0.2284,   0.2189,   0.0271,  ...,  -9.1160, -21.6408,  -8.1303]],\n",
       "       dtype=torch.float64)"
      ]
     },
     "execution_count": 649,
     "metadata": {},
     "output_type": "execute_result"
    }
   ],
   "source": [
    "# заметим, что мы сразу получаем торчовый формат данных\n",
    "x"
   ]
  },
  {
   "cell_type": "code",
   "execution_count": 650,
   "metadata": {},
   "outputs": [
    {
     "data": {
      "text/plain": [
       "tensor([1, 0, 1, 1, 0, 0, 0, 0, 1, 0, 2, 1, 2, 1, 0, 1, 0, 0, 2, 2, 1, 1, 1, 2,\n",
       "        2, 0, 1, 1, 2, 2, 2, 0, 2, 0, 2, 1, 0, 0, 1, 2, 1, 2, 1, 1, 0, 1, 1, 0,\n",
       "        2, 1, 1, 0, 1, 1, 0, 1, 2, 2, 0, 2, 0, 0, 2, 2, 2, 1, 0, 2, 0, 2, 1, 2,\n",
       "        1, 1, 0, 1, 0, 2, 0, 1, 2, 1, 2, 2, 1, 2, 0, 0, 1, 0, 2, 2, 1, 1, 0, 0,\n",
       "        2, 0, 0, 2, 1, 2, 1, 2, 2, 1, 2, 2, 1, 0, 0, 0, 1, 2, 2, 0, 0, 1, 1, 2,\n",
       "        0, 0, 0, 0, 0, 2, 0, 2])"
      ]
     },
     "execution_count": 650,
     "metadata": {},
     "output_type": "execute_result"
    }
   ],
   "source": [
    "y"
   ]
  },
  {
   "cell_type": "markdown",
   "metadata": {},
   "source": [
    "# Если вы ничего здесь не понимаете, то вернитесь в конец первой домашки, там все объясняется"
   ]
  },
  {
   "cell_type": "code",
   "execution_count": 651,
   "metadata": {},
   "outputs": [],
   "source": [
    "model = torch.nn.Sequential(torch.nn.Linear(32, 16),\n",
    "                            torch.nn.ReLU(),\n",
    "                            torch.nn.Linear(16, 8),\n",
    "                            torch.nn.ReLU(),\n",
    "                            torch.nn.Linear(8, 3))\n",
    "\n",
    "criterion = torch.nn.CrossEntropyLoss()"
   ]
  },
  {
   "cell_type": "code",
   "execution_count": 652,
   "metadata": {},
   "outputs": [
    {
     "data": {
      "text/plain": [
       "1.167976975440979"
      ]
     },
     "execution_count": 652,
     "metadata": {},
     "output_type": "execute_result"
    }
   ],
   "source": [
    "with torch.no_grad():\n",
    "\n",
    "    prediction = model(x.float())\n",
    "\n",
    "    loss = criterion(prediction, y)\n",
    "    \n",
    "loss.item()"
   ]
  },
  {
   "cell_type": "markdown",
   "metadata": {},
   "source": [
    "# Боевые датасеты"
   ]
  },
  {
   "cell_type": "code",
   "execution_count": 653,
   "metadata": {},
   "outputs": [],
   "source": [
    "class CBOWDataset(Dataset):\n",
    "\n",
    "    def __init__(self,\n",
    "                 corpus,\n",
    "                 word2index,\n",
    "                 window=2,\n",
    "                 unk_token='UNK',\n",
    "                 pad_token='PAD',\n",
    "                 collect_verbose=True):\n",
    "\n",
    "        self.corpus = corpus\n",
    "        self.word2index = word2index\n",
    "        self.index2word = {value: key for key, value in self.word2index.items()}\n",
    "        self.window = window\n",
    "\n",
    "        self.unk_token = unk_token\n",
    "        self.unk_index = self.word2index[self.unk_token]\n",
    "\n",
    "        self.pad_token = pad_token\n",
    "        self.pad_index = len(self.word2index)\n",
    "\n",
    "        self.collect_verbose = collect_verbose\n",
    "\n",
    "        self.data = []\n",
    "\n",
    "        self.collect_data()\n",
    "\n",
    "    def __len__(self):\n",
    "\n",
    "        return len(self.data)\n",
    "\n",
    "    def _split_function(self, tokenized_text):\n",
    "\n",
    "        splits = []\n",
    "\n",
    "        for n in range(len(tokenized_text)):\n",
    "            left_context = tokenized_text[np.maximum(n - self.window, 0):n]\n",
    "            left_context = ([self.pad_index] * (self.window - len(left_context))) + left_context\n",
    "\n",
    "            central_word = tokenized_text[n]\n",
    "\n",
    "            right_context = tokenized_text[n + 1:n + self.window + 1]\n",
    "            right_context = right_context + ([self.pad_index] * (self.window - len(right_context)))\n",
    "\n",
    "            splits.append((left_context + right_context, central_word))\n",
    "\n",
    "        return splits\n",
    "\n",
    "    def indexing(self, tokenized_text):\n",
    "\n",
    "        return [self.word2index[token] if token in self.word2index else self.unk_index for token in tokenized_text]\n",
    "\n",
    "    def collect_data(self):\n",
    "\n",
    "        corpus = tqdm(self.corpus, disable=not self.collect_verbose)\n",
    "\n",
    "        for tokenized_text in corpus:\n",
    "            indexed_text = self.indexing(tokenized_text)\n",
    "            cbow_examples = self._split_function(indexed_text)\n",
    "\n",
    "            self.data.extend(cbow_examples)\n",
    "\n",
    "    def __getitem__(self, idx):\n",
    "\n",
    "        context, central_word = self.data[idx]\n",
    "\n",
    "        context = torch.Tensor(context).long()\n",
    "\n",
    "        return context, central_word"
   ]
  },
  {
   "cell_type": "markdown",
   "metadata": {},
   "source": [
    "# Мы будем учить модель Skipgram\n",
    "Реализуйте читалку данных"
   ]
  },
  {
   "cell_type": "code",
   "execution_count": 654,
   "metadata": {},
   "outputs": [],
   "source": [
    "class SkipgramDataset(Dataset):\n",
    "\n",
    "    def __init__(self,\n",
    "                 corpus,\n",
    "                 word2index,\n",
    "                 window=2,\n",
    "                 unk_token='UNK',\n",
    "                 collect_verbose=True):\n",
    "        \n",
    "        self.corpus = corpus\n",
    "        self.word2index = word2index\n",
    "        self.index2word = {value: key for key, value in self.word2index.items()}\n",
    "        self.window = window\n",
    "\n",
    "        self.unk_token = unk_token\n",
    "        self.unk_index = self.word2index[self.unk_token]\n",
    "\n",
    "\n",
    "        self.collect_verbose = collect_verbose\n",
    "\n",
    "        self.data = []\n",
    "\n",
    "        self.collect_data()\n",
    "\n",
    "    def __len__(self):\n",
    "\n",
    "        return len(self.data)\n",
    "\n",
    "    def _split_function(self, tokenized_text):\n",
    "        \n",
    "        # CODE\n",
    "        # вставить здесь функцию, которые вы писали раньше\n",
    "\n",
    "        splits = []\n",
    "        \n",
    "        for i in range(len(tokenized_text)):\n",
    "            if i-self.window < 1:\n",
    "                start = 0  \n",
    "            else:\n",
    "                start = i-self.window\n",
    "                \n",
    "            if i+1+self.window < len(tokenized_text)-1:\n",
    "                finish = i+1+self.window\n",
    "            else:\n",
    "                finish = len(tokenized_text)-1\n",
    "                \n",
    "            left_context = tokenized_text[start:i]\n",
    "            word = tokenized_text[i]\n",
    "            right_context = tokenized_text[i+1:finish]\n",
    "            \n",
    "            for el in left_context+right_context:\n",
    "                splits.append((el, word))\n",
    "\n",
    "        return splits\n",
    "\n",
    "    def indexing(self, tokenized_text):\n",
    "\n",
    "        return [self.word2index[token] if token in self.word2index else self.unk_index for token in tokenized_text]\n",
    "\n",
    "    def collect_data(self):\n",
    "\n",
    "        corpus = tqdm(self.corpus, disable=not self.collect_verbose)\n",
    "\n",
    "        for tokenized_text in corpus:\n",
    "            indexed_text = self.indexing(tokenized_text)\n",
    "            skipgram_examples = self._split_function(indexed_text)\n",
    "\n",
    "            self.data.extend(skipgram_examples)\n",
    "\n",
    "    def __getitem__(self, idx):\n",
    "        \n",
    "        # CODE\n",
    "        context, central_word = self.data[idx]\n",
    "        \n",
    "        return context, central_word"
   ]
  },
  {
   "cell_type": "code",
   "execution_count": 655,
   "metadata": {},
   "outputs": [],
   "source": [
    "# можете положить SkipgramDataset в отдельный файлик, например word2vec_utils и относительным импортом достать его \n",
    "#from .word2vec_utils import SkipgramDataset"
   ]
  },
  {
   "cell_type": "code",
   "execution_count": 656,
   "metadata": {
    "scrolled": true
   },
   "outputs": [
    {
     "name": "stderr",
     "output_type": "stream",
     "text": [
      "100%|██████████| 100000/100000 [00:01<00:00, 85524.26it/s]\n"
     ]
    }
   ],
   "source": [
    "dataset = SkipgramDataset(corpus, word2index)"
   ]
  },
  {
   "cell_type": "code",
   "execution_count": 657,
   "metadata": {},
   "outputs": [],
   "source": [
    "BATCH_SIZE = 512"
   ]
  },
  {
   "cell_type": "code",
   "execution_count": 658,
   "metadata": {},
   "outputs": [],
   "source": [
    "dataset_loader = DataLoader(dataset, shuffle=True, batch_size=BATCH_SIZE)"
   ]
  },
  {
   "cell_type": "code",
   "execution_count": 659,
   "metadata": {},
   "outputs": [],
   "source": [
    "for x, y in dataset_loader:\n",
    "    break"
   ]
  },
  {
   "cell_type": "code",
   "execution_count": 660,
   "metadata": {},
   "outputs": [
    {
     "data": {
      "text/plain": [
       "tensor([2200, 1989, 1499,  375,   32])"
      ]
     },
     "execution_count": 660,
     "metadata": {},
     "output_type": "execute_result"
    }
   ],
   "source": [
    "x[:5]"
   ]
  },
  {
   "cell_type": "code",
   "execution_count": 661,
   "metadata": {},
   "outputs": [
    {
     "data": {
      "text/plain": [
       "tensor([1582,  399, 3893,  376,  368])"
      ]
     },
     "execution_count": 661,
     "metadata": {},
     "output_type": "execute_result"
    }
   ],
   "source": [
    "y[:5]"
   ]
  },
  {
   "cell_type": "code",
   "execution_count": 662,
   "metadata": {},
   "outputs": [
    {
     "data": {
      "text/plain": [
       "(torch.Size([512]), torch.Size([512]))"
      ]
     },
     "execution_count": 662,
     "metadata": {},
     "output_type": "execute_result"
    }
   ],
   "source": [
    "x.shape, y.shape"
   ]
  },
  {
   "cell_type": "code",
   "execution_count": 663,
   "metadata": {},
   "outputs": [],
   "source": [
    "class CBOW(torch.nn.Module):\n",
    "    \n",
    "    def __init__(self, vocab_size, embedding_dim, pad_index):\n",
    "        \n",
    "        super().__init__()\n",
    "        \n",
    "        if pad_index > 0:\n",
    "            vocab_size += 1\n",
    "        \n",
    "        self.in_embedding = torch.nn.Embedding(num_embeddings=vocab_size, \n",
    "                                               embedding_dim=embedding_dim,\n",
    "                                               padding_idx=pad_index)\n",
    "        \n",
    "        self.out_embedding = torch.nn.Linear(in_features=embedding_dim,\n",
    "                                             out_features=vocab_size, bias=False)\n",
    "        \n",
    "    def forward(self, x):\n",
    "        \n",
    "        x = self.in_embedding(x).sum(dim=-2)\n",
    "        x = self.out_embedding(x)\n",
    "        \n",
    "        return x"
   ]
  },
  {
   "cell_type": "markdown",
   "metadata": {},
   "source": [
    "# Мы будем учить модель Skipgram\n",
    "Реализуйте ее"
   ]
  },
  {
   "cell_type": "code",
   "execution_count": 664,
   "metadata": {},
   "outputs": [],
   "source": [
    "# CODE\n",
    "class SkipGram(torch.nn.Module):\n",
    "    \n",
    "    def __init__(self, vocab_size, embedding_dim):\n",
    "        \n",
    "        super().__init__()\n",
    "\n",
    "        self.in_embedding = torch.nn.Embedding(num_embeddings=vocab_size, \n",
    "                                               embedding_dim=embedding_dim)\n",
    "        \n",
    "        self.out_embedding = torch.nn.Linear(in_features=embedding_dim,\n",
    "                                             out_features=vocab_size, bias=False)\n",
    "        \n",
    "    def forward(self, x):\n",
    "        \n",
    "        x = self.in_embedding(x)\n",
    "        x = self.out_embedding(x)\n",
    "        \n",
    "        return x"
   ]
  },
  {
   "cell_type": "code",
   "execution_count": 665,
   "metadata": {},
   "outputs": [],
   "source": [
    "#from word2vec_utils import SkipGram"
   ]
  },
  {
   "cell_type": "code",
   "execution_count": 666,
   "metadata": {},
   "outputs": [],
   "source": [
    "# размерность эмбеддинга\n",
    "# маленькая, чтобы мы могли недолго поучить ворд2век и увидеть результаты\n",
    "EMBEDDING_DIM = 20"
   ]
  },
  {
   "cell_type": "code",
   "execution_count": 667,
   "metadata": {},
   "outputs": [],
   "source": [
    "model = SkipGram(vocab_size=len(word2index), embedding_dim=EMBEDDING_DIM)"
   ]
  },
  {
   "cell_type": "code",
   "execution_count": 668,
   "metadata": {},
   "outputs": [
    {
     "data": {
      "text/plain": [
       "torch.Size([512, 13076])"
      ]
     },
     "execution_count": 668,
     "metadata": {},
     "output_type": "execute_result"
    }
   ],
   "source": [
    "with torch.no_grad():\n",
    "    pred = model(x)\n",
    "\n",
    "pred.shape"
   ]
  },
  {
   "cell_type": "code",
   "execution_count": 669,
   "metadata": {},
   "outputs": [],
   "source": [
    "optimizer = torch.optim.Adam(params=model.parameters(), lr=0.0001)\n",
    "\n",
    "# aka loss function\n",
    "criterion = torch.nn.CrossEntropyLoss()"
   ]
  },
  {
   "cell_type": "markdown",
   "metadata": {},
   "source": [
    "# Допишите обучалку"
   ]
  },
  {
   "cell_type": "code",
   "execution_count": 670,
   "metadata": {},
   "outputs": [
    {
     "name": "stderr",
     "output_type": "stream",
     "text": [
      "Epoch 1: 100%|██████████| 2783148/2783148 [04:50<00:00, 9577.02it/s, loss=7.37]\n",
      "Epoch 2: 100%|██████████| 2783148/2783148 [04:56<00:00, 9388.05it/s, loss=7.36]\n",
      "Epoch 3: 100%|██████████| 2783148/2783148 [04:57<00:00, 9369.20it/s, loss=7.16]\n"
     ]
    }
   ],
   "source": [
    "epochs = 3\n",
    "\n",
    "losses = []\n",
    "\n",
    "for n_epoch in range(epochs):\n",
    "\n",
    "    try:\n",
    "\n",
    "        progress_bar = tqdm(total=len(dataset_loader.dataset), desc='Epoch {}'.format(n_epoch + 1))\n",
    "\n",
    "        for x, y in dataset_loader:\n",
    "\n",
    "            # CODE\n",
    "            pred = model(x)\n",
    "            loss = criterion(pred, y)\n",
    "            \n",
    "            # CODE\n",
    "            loss.backward()\n",
    "            optimizer.step()\n",
    "            \n",
    "            losses.append(loss.item())\n",
    "            \n",
    "            progress_bar.set_postfix(loss=np.mean(losses[-100:]))\n",
    "\n",
    "            progress_bar.update(x.shape[0])\n",
    "\n",
    "        progress_bar.close()\n",
    "\n",
    "    except KeyboardInterrupt:\n",
    "\n",
    "        progress_bar.close()\n",
    "        break"
   ]
  },
  {
   "cell_type": "code",
   "execution_count": 671,
   "metadata": {},
   "outputs": [
    {
     "data": {
      "text/plain": [
       "[<matplotlib.lines.Line2D at 0x7fc272b14ad0>]"
      ]
     },
     "execution_count": 671,
     "metadata": {},
     "output_type": "execute_result"
    }
   ],
   "source": [
    "plt.title('SkipGram Training Process')\n",
    "plt.xlabel('Itearations')\n",
    "plt.ylabel('Loss')\n",
    "plt.grid()\n",
    "plt.plot(losses)"
   ]
  },
  {
   "cell_type": "code",
   "execution_count": 672,
   "metadata": {},
   "outputs": [],
   "source": [
    "# проверка, что хоть что-то выучилось\n",
    "assert np.mean(losses[-1000:]) < 7.5"
   ]
  },
  {
   "cell_type": "code",
   "execution_count": 673,
   "metadata": {},
   "outputs": [],
   "source": [
    "embedding_matrix = model.in_embedding.weight.detach()"
   ]
  },
  {
   "cell_type": "code",
   "execution_count": 674,
   "metadata": {},
   "outputs": [],
   "source": [
    "def cos_sim(embedding_matrix, token2id, word1, word2):\n",
    "    \n",
    "    i1 = token2id[word1]\n",
    "    i2 = token2id[word2]\n",
    "    \n",
    "    v1, v2 = embedding_matrix[i1], embedding_matrix[i2]\n",
    "    \n",
    "    v1_n = v1.div(v1.norm(keepdim=True))\n",
    "    v2_n = v2.div(v2.norm(keepdim=True))\n",
    "    \n",
    "    similarity = torch.dot(v1_n, v2_n).norm().item()\n",
    "    \n",
    "    return similarity"
   ]
  },
  {
   "cell_type": "markdown",
   "metadata": {},
   "source": [
    "# Косинусная близость\n",
    "От 0 до 1, где 0 - вектора абсолютно разные, где 1 - идентичные."
   ]
  },
  {
   "cell_type": "code",
   "execution_count": 675,
   "metadata": {},
   "outputs": [
    {
     "data": {
      "text/plain": [
       "0.7484213709831238"
      ]
     },
     "execution_count": 675,
     "metadata": {},
     "output_type": "execute_result"
    }
   ],
   "source": [
    "cos_sim(embedding_matrix, word2index, 'день', 'месяц')"
   ]
  },
  {
   "cell_type": "code",
   "execution_count": 676,
   "metadata": {},
   "outputs": [
    {
     "data": {
      "text/plain": [
       "0.5667462348937988"
      ]
     },
     "execution_count": 676,
     "metadata": {},
     "output_type": "execute_result"
    }
   ],
   "source": [
    "cos_sim(embedding_matrix, word2index, 'минута', 'месяц')"
   ]
  },
  {
   "cell_type": "code",
   "execution_count": 677,
   "metadata": {},
   "outputs": [
    {
     "data": {
      "text/plain": [
       "0.7550814151763916"
      ]
     },
     "execution_count": 677,
     "metadata": {},
     "output_type": "execute_result"
    }
   ],
   "source": [
    "cos_sim(embedding_matrix, word2index, 'сотрудник', 'сотрудница')"
   ]
  },
  {
   "cell_type": "code",
   "execution_count": 678,
   "metadata": {},
   "outputs": [
    {
     "data": {
      "text/plain": [
       "0.5436626672744751"
      ]
     },
     "execution_count": 678,
     "metadata": {},
     "output_type": "execute_result"
    }
   ],
   "source": [
    "cos_sim(embedding_matrix, word2index, 'вклад', 'перевод')"
   ]
  },
  {
   "cell_type": "code",
   "execution_count": 679,
   "metadata": {},
   "outputs": [
    {
     "data": {
      "text/plain": [
       "'Косинусная близость слова \"день\" к случайному выбраному слову \"нб\" равна 0.469'"
      ]
     },
     "execution_count": 679,
     "metadata": {},
     "output_type": "execute_result"
    }
   ],
   "source": [
    "random_word = random.choice(list(word2index.keys()))\n",
    "sim = cos_sim(embedding_matrix, word2index, 'день', random_word)\n",
    "'Косинусная близость слова \"день\" к случайному выбраному слову \"{}\" равна {:.3f}'.format(random_word, sim)"
   ]
  },
  {
   "cell_type": "code",
   "execution_count": 680,
   "metadata": {},
   "outputs": [],
   "source": [
    "freq = {}\n",
    "\n",
    "for text in corpus:\n",
    "    for token in text:\n",
    "        if token in freq:\n",
    "            freq[token] += 1\n",
    "        else:\n",
    "            freq[token] = 1"
   ]
  },
  {
   "cell_type": "code",
   "execution_count": 681,
   "metadata": {},
   "outputs": [],
   "source": [
    "sorted_freq = [(k, freq[k]) for k in sorted(freq, key=freq.get, reverse=True)]\n",
    "top_sorted_freq = sorted_freq[0:200]"
   ]
  },
  {
   "cell_type": "code",
   "execution_count": 682,
   "metadata": {},
   "outputs": [
    {
     "name": "stdout",
     "output_type": "stream",
     "text": [
      "[t-SNE] Computing 91 nearest neighbors...\n",
      "[t-SNE] Indexed 13076 samples in 0.000s...\n",
      "[t-SNE] Computed neighbors for 13076 samples in 3.477s...\n",
      "[t-SNE] Computed conditional probabilities for sample 1000 / 13076\n",
      "[t-SNE] Computed conditional probabilities for sample 2000 / 13076\n",
      "[t-SNE] Computed conditional probabilities for sample 3000 / 13076\n",
      "[t-SNE] Computed conditional probabilities for sample 4000 / 13076\n",
      "[t-SNE] Computed conditional probabilities for sample 5000 / 13076\n",
      "[t-SNE] Computed conditional probabilities for sample 6000 / 13076\n",
      "[t-SNE] Computed conditional probabilities for sample 7000 / 13076\n",
      "[t-SNE] Computed conditional probabilities for sample 8000 / 13076\n",
      "[t-SNE] Computed conditional probabilities for sample 9000 / 13076\n",
      "[t-SNE] Computed conditional probabilities for sample 10000 / 13076\n",
      "[t-SNE] Computed conditional probabilities for sample 11000 / 13076\n",
      "[t-SNE] Computed conditional probabilities for sample 12000 / 13076\n",
      "[t-SNE] Computed conditional probabilities for sample 13000 / 13076\n",
      "[t-SNE] Computed conditional probabilities for sample 13076 / 13076\n",
      "[t-SNE] Mean sigma: 1.042050\n",
      "[t-SNE] Computed conditional probabilities in 0.278s\n",
      "[t-SNE] Iteration 50: error = 97.5354080, gradient norm = 0.0002301 (50 iterations in 2.842s)\n",
      "[t-SNE] Iteration 100: error = 97.6150055, gradient norm = 0.0008070 (50 iterations in 1.864s)\n",
      "[t-SNE] Iteration 150: error = 97.6334229, gradient norm = 0.0000449 (50 iterations in 1.729s)\n",
      "[t-SNE] Iteration 200: error = 97.6415787, gradient norm = 0.0000157 (50 iterations in 1.720s)\n",
      "[t-SNE] Iteration 250: error = 97.6461563, gradient norm = 0.0000119 (50 iterations in 1.782s)\n",
      "[t-SNE] KL divergence after 250 iterations with early exaggeration: 97.646156\n",
      "[t-SNE] Iteration 300: error = 4.8148985, gradient norm = 0.0014764 (50 iterations in 1.943s)\n",
      "[t-SNE] Iteration 350: error = 4.2778358, gradient norm = 0.0005741 (50 iterations in 2.152s)\n",
      "[t-SNE] Iteration 400: error = 4.1533155, gradient norm = 0.0003073 (50 iterations in 1.968s)\n",
      "[t-SNE] Iteration 450: error = 4.0785217, gradient norm = 0.0002054 (50 iterations in 1.942s)\n",
      "[t-SNE] Iteration 500: error = 4.0242553, gradient norm = 0.0001559 (50 iterations in 1.883s)\n",
      "[t-SNE] Iteration 550: error = 3.9818568, gradient norm = 0.0001259 (50 iterations in 1.915s)\n",
      "[t-SNE] Iteration 600: error = 3.9475932, gradient norm = 0.0001054 (50 iterations in 1.966s)\n",
      "[t-SNE] Iteration 650: error = 3.9190340, gradient norm = 0.0000890 (50 iterations in 1.875s)\n",
      "[t-SNE] Iteration 700: error = 3.8950295, gradient norm = 0.0000790 (50 iterations in 1.865s)\n",
      "[t-SNE] Iteration 750: error = 3.8749473, gradient norm = 0.0000705 (50 iterations in 1.857s)\n",
      "[t-SNE] Iteration 800: error = 3.8585739, gradient norm = 0.0000667 (50 iterations in 1.903s)\n",
      "[t-SNE] Iteration 850: error = 3.8449466, gradient norm = 0.0000604 (50 iterations in 2.003s)\n",
      "[t-SNE] Iteration 900: error = 3.8329606, gradient norm = 0.0000524 (50 iterations in 2.039s)\n",
      "[t-SNE] Iteration 950: error = 3.8220010, gradient norm = 0.0000480 (50 iterations in 2.236s)\n",
      "[t-SNE] Iteration 1000: error = 3.8124216, gradient norm = 0.0000450 (50 iterations in 1.940s)\n",
      "[t-SNE] KL divergence after 1000 iterations: 3.812422\n"
     ]
    }
   ],
   "source": [
    "tsne = TSNE(n_components=2, init='pca', random_state=42, verbose=2)\n",
    "reduced = tsne.fit_transform(embedding_matrix)"
   ]
  },
  {
   "cell_type": "code",
   "execution_count": 683,
   "metadata": {},
   "outputs": [],
   "source": [
    "top_words = [a for a,_ in top_sorted_freq]"
   ]
  },
  {
   "cell_type": "code",
   "execution_count": 684,
   "metadata": {},
   "outputs": [],
   "source": [
    "inds = [word2index[word] for word in top_words]\n",
    "x_coords = [coords[0] for coords in reduced[inds]]\n",
    "y_coords = [coords[1] for coords in reduced[inds]]"
   ]
  },
  {
   "cell_type": "code",
   "execution_count": 839,
   "metadata": {},
   "outputs": [
    {
     "data": {
      "image/png": "[encoded data removed]",
      "text/plain": [
       "<Figure size 1500x1500 with 1 Axes>"
      ]
     },
     "metadata": {},
     "output_type": "display_data"
    }
   ],
   "source": [
    "for (x, y, word) in zip(x_coords, y_coords, top_words):\n",
    "    plt.scatter(x, y, marker='.', color='blue')\n",
    "    plt.text(x+0.01, y+0.01, word, fontsize=9)\n",
    "plt.show()"
   ]
  },
  {
   "cell_type": "markdown",
   "metadata": {},
   "source": [
    "# Оценка\n",
    "1. Вы добрались сюда и все работает, значит уже получили 7 баллов.\n",
    "2. 8 баллов - Взяли корпус для оценка качества эмбеддингов [здесь](https://rusvectores.org/static/testsets/ru_simlex965_tagged.tsv). Описание к нему [здесь](https://arxiv.org/pdf/1801.06407.pdf). Его английская версия для понимания, того что же это такое [тут](https://fh295.github.io/simlex.html). Если в кратце - он похож а гугл аналогии, просто иначе составлен. Определили качество своих эмбеддингов. Как качество измерить? Можете все значения отнормировать (привести к 1) и затем считать MSE между тем что у вас и что в оригинале.\n",
    "3. 9 баллов - Поставили эксперименты, поменяли любые параметры, хоть корпус увеличили или как то почистили. Показали метрики до и после. После должно быть лучше, иначе это все еще 8 баллов.\n",
    "4. 10 баллов - удивили своим подходом (или просто удивили) пока делили на 9 баллов"
   ]
  },
  {
   "cell_type": "markdown",
   "metadata": {},
   "source": [
    "### Пункт 2."
   ]
  },
  {
   "cell_type": "code",
   "execution_count": 686,
   "metadata": {},
   "outputs": [],
   "source": [
    "import csv\n",
    "with open('ru_simlex965_tagged.tsv') as f:\n",
    "    corpus2 = list(csv.reader(f, delimiter='\\t'))\n",
    "    cos_sim_simlex = []\n",
    "    for el in corpus2:\n",
    "        word1 = el[0].replace('_NOUN','').replace('_VERB','').replace('_ADJ','')\n",
    "        word2 = el[1].replace('_NOUN','').replace('_VERB','').replace('_ADJ','')\n",
    "        try:\n",
    "            \n",
    "            sim = cos_sim(embedding_matrix, word2index, word1, word2)\n",
    "            cos_sim_simlex.append([word1, word2, sim, el[2]])\n",
    "        except KeyError:\n",
    "            pass"
   ]
  },
  {
   "cell_type": "code",
   "execution_count": 687,
   "metadata": {},
   "outputs": [],
   "source": [
    "df = pd.DataFrame(cos_sim_simlex, columns=['word1', 'word2', 'my_values', 'simlex'])"
   ]
  },
  {
   "cell_type": "code",
   "execution_count": 688,
   "metadata": {},
   "outputs": [
    {
     "data": {
      "text/html": [
       "<div>\n",
       "<style scoped>\n",
       "    .dataframe tbody tr th:only-of-type {\n",
       "        vertical-align: middle;\n",
       "    }\n",
       "\n",
       "    .dataframe tbody tr th {\n",
       "        vertical-align: top;\n",
       "    }\n",
       "\n",
       "    .dataframe thead th {\n",
       "        text-align: right;\n",
       "    }\n",
       "</style>\n",
       "<table border=\"1\" class=\"dataframe\">\n",
       "  <thead>\n",
       "    <tr style=\"text-align: right;\">\n",
       "      <th></th>\n",
       "      <th>word1</th>\n",
       "      <th>word2</th>\n",
       "      <th>my_values</th>\n",
       "      <th>simlex</th>\n",
       "    </tr>\n",
       "  </thead>\n",
       "  <tbody>\n",
       "    <tr>\n",
       "      <th>0</th>\n",
       "      <td>август</td>\n",
       "      <td>месяц</td>\n",
       "      <td>0.619248</td>\n",
       "      <td>2.85</td>\n",
       "    </tr>\n",
       "    <tr>\n",
       "      <th>1</th>\n",
       "      <td>автомобиль</td>\n",
       "      <td>гудок</td>\n",
       "      <td>0.517586</td>\n",
       "      <td>1.85</td>\n",
       "    </tr>\n",
       "    <tr>\n",
       "      <th>2</th>\n",
       "      <td>автомобиль</td>\n",
       "      <td>такси</td>\n",
       "      <td>0.324775</td>\n",
       "      <td>4.15</td>\n",
       "    </tr>\n",
       "    <tr>\n",
       "      <th>3</th>\n",
       "      <td>автомобиль</td>\n",
       "      <td>велосипед</td>\n",
       "      <td>0.351027</td>\n",
       "      <td>1.38</td>\n",
       "    </tr>\n",
       "    <tr>\n",
       "      <th>4</th>\n",
       "      <td>автомобиль</td>\n",
       "      <td>мост</td>\n",
       "      <td>0.289100</td>\n",
       "      <td>1.15</td>\n",
       "    </tr>\n",
       "    <tr>\n",
       "      <th>...</th>\n",
       "      <td>...</td>\n",
       "      <td>...</td>\n",
       "      <td>...</td>\n",
       "      <td>...</td>\n",
       "    </tr>\n",
       "    <tr>\n",
       "      <th>493</th>\n",
       "      <td>юбилей</td>\n",
       "      <td>год</td>\n",
       "      <td>0.321373</td>\n",
       "      <td>2.69</td>\n",
       "    </tr>\n",
       "    <tr>\n",
       "      <th>494</th>\n",
       "      <td>юбилей</td>\n",
       "      <td>дата</td>\n",
       "      <td>0.310182</td>\n",
       "      <td>6.62</td>\n",
       "    </tr>\n",
       "    <tr>\n",
       "      <th>495</th>\n",
       "      <td>юг</td>\n",
       "      <td>север</td>\n",
       "      <td>0.272047</td>\n",
       "      <td>0</td>\n",
       "    </tr>\n",
       "    <tr>\n",
       "      <th>496</th>\n",
       "      <td>юрист</td>\n",
       "      <td>банкир</td>\n",
       "      <td>0.766166</td>\n",
       "      <td>1.15</td>\n",
       "    </tr>\n",
       "    <tr>\n",
       "      <th>497</th>\n",
       "      <td>язык</td>\n",
       "      <td>горло</td>\n",
       "      <td>0.412783</td>\n",
       "      <td>1.38</td>\n",
       "    </tr>\n",
       "  </tbody>\n",
       "</table>\n",
       "<p>498 rows × 4 columns</p>\n",
       "</div>"
      ],
      "text/plain": [
       "          word1      word2  my_values simlex\n",
       "0        август      месяц   0.619248   2.85\n",
       "1    автомобиль      гудок   0.517586   1.85\n",
       "2    автомобиль      такси   0.324775   4.15\n",
       "3    автомобиль  велосипед   0.351027   1.38\n",
       "4    автомобиль       мост   0.289100   1.15\n",
       "..          ...        ...        ...    ...\n",
       "493      юбилей        год   0.321373   2.69\n",
       "494      юбилей       дата   0.310182   6.62\n",
       "495          юг      север   0.272047      0\n",
       "496       юрист     банкир   0.766166   1.15\n",
       "497        язык      горло   0.412783   1.38\n",
       "\n",
       "[498 rows x 4 columns]"
      ]
     },
     "execution_count": 688,
     "metadata": {},
     "output_type": "execute_result"
    }
   ],
   "source": [
    "df"
   ]
  },
  {
   "cell_type": "code",
   "execution_count": 689,
   "metadata": {},
   "outputs": [],
   "source": [
    "from sklearn.preprocessing import MinMaxScaler\n",
    "\n",
    "scaler = MinMaxScaler() "
   ]
  },
  {
   "cell_type": "code",
   "execution_count": 690,
   "metadata": {},
   "outputs": [],
   "source": [
    "x = df[['simlex']].values\n",
    "x_scaled = scaler.fit_transform(x)\n",
    "df_temp = pd.DataFrame(x_scaled, columns=['simlex'], index = df.index)\n",
    "df['simlex_normalize'] = df_temp"
   ]
  },
  {
   "cell_type": "code",
   "execution_count": 691,
   "metadata": {},
   "outputs": [],
   "source": [
    "df.drop('simlex', axis=1, inplace=True)"
   ]
  },
  {
   "cell_type": "code",
   "execution_count": 692,
   "metadata": {},
   "outputs": [
    {
     "data": {
      "text/html": [
       "<div>\n",
       "<style scoped>\n",
       "    .dataframe tbody tr th:only-of-type {\n",
       "        vertical-align: middle;\n",
       "    }\n",
       "\n",
       "    .dataframe tbody tr th {\n",
       "        vertical-align: top;\n",
       "    }\n",
       "\n",
       "    .dataframe thead th {\n",
       "        text-align: right;\n",
       "    }\n",
       "</style>\n",
       "<table border=\"1\" class=\"dataframe\">\n",
       "  <thead>\n",
       "    <tr style=\"text-align: right;\">\n",
       "      <th></th>\n",
       "      <th>word1</th>\n",
       "      <th>word2</th>\n",
       "      <th>my_values</th>\n",
       "      <th>simlex_normalize</th>\n",
       "    </tr>\n",
       "  </thead>\n",
       "  <tbody>\n",
       "    <tr>\n",
       "      <th>0</th>\n",
       "      <td>август</td>\n",
       "      <td>месяц</td>\n",
       "      <td>0.619248</td>\n",
       "      <td>0.287298</td>\n",
       "    </tr>\n",
       "    <tr>\n",
       "      <th>1</th>\n",
       "      <td>автомобиль</td>\n",
       "      <td>гудок</td>\n",
       "      <td>0.517586</td>\n",
       "      <td>0.186492</td>\n",
       "    </tr>\n",
       "    <tr>\n",
       "      <th>2</th>\n",
       "      <td>автомобиль</td>\n",
       "      <td>такси</td>\n",
       "      <td>0.324775</td>\n",
       "      <td>0.418347</td>\n",
       "    </tr>\n",
       "    <tr>\n",
       "      <th>3</th>\n",
       "      <td>автомобиль</td>\n",
       "      <td>велосипед</td>\n",
       "      <td>0.351027</td>\n",
       "      <td>0.139113</td>\n",
       "    </tr>\n",
       "    <tr>\n",
       "      <th>4</th>\n",
       "      <td>автомобиль</td>\n",
       "      <td>мост</td>\n",
       "      <td>0.289100</td>\n",
       "      <td>0.115927</td>\n",
       "    </tr>\n",
       "    <tr>\n",
       "      <th>...</th>\n",
       "      <td>...</td>\n",
       "      <td>...</td>\n",
       "      <td>...</td>\n",
       "      <td>...</td>\n",
       "    </tr>\n",
       "    <tr>\n",
       "      <th>493</th>\n",
       "      <td>юбилей</td>\n",
       "      <td>год</td>\n",
       "      <td>0.321373</td>\n",
       "      <td>0.271169</td>\n",
       "    </tr>\n",
       "    <tr>\n",
       "      <th>494</th>\n",
       "      <td>юбилей</td>\n",
       "      <td>дата</td>\n",
       "      <td>0.310182</td>\n",
       "      <td>0.667339</td>\n",
       "    </tr>\n",
       "    <tr>\n",
       "      <th>495</th>\n",
       "      <td>юг</td>\n",
       "      <td>север</td>\n",
       "      <td>0.272047</td>\n",
       "      <td>0.000000</td>\n",
       "    </tr>\n",
       "    <tr>\n",
       "      <th>496</th>\n",
       "      <td>юрист</td>\n",
       "      <td>банкир</td>\n",
       "      <td>0.766166</td>\n",
       "      <td>0.115927</td>\n",
       "    </tr>\n",
       "    <tr>\n",
       "      <th>497</th>\n",
       "      <td>язык</td>\n",
       "      <td>горло</td>\n",
       "      <td>0.412783</td>\n",
       "      <td>0.139113</td>\n",
       "    </tr>\n",
       "  </tbody>\n",
       "</table>\n",
       "<p>498 rows × 4 columns</p>\n",
       "</div>"
      ],
      "text/plain": [
       "          word1      word2  my_values  simlex_normalize\n",
       "0        август      месяц   0.619248          0.287298\n",
       "1    автомобиль      гудок   0.517586          0.186492\n",
       "2    автомобиль      такси   0.324775          0.418347\n",
       "3    автомобиль  велосипед   0.351027          0.139113\n",
       "4    автомобиль       мост   0.289100          0.115927\n",
       "..          ...        ...        ...               ...\n",
       "493      юбилей        год   0.321373          0.271169\n",
       "494      юбилей       дата   0.310182          0.667339\n",
       "495          юг      север   0.272047          0.000000\n",
       "496       юрист     банкир   0.766166          0.115927\n",
       "497        язык      горло   0.412783          0.139113\n",
       "\n",
       "[498 rows x 4 columns]"
      ]
     },
     "execution_count": 692,
     "metadata": {},
     "output_type": "execute_result"
    }
   ],
   "source": [
    "df"
   ]
  },
  {
   "cell_type": "code",
   "execution_count": 693,
   "metadata": {},
   "outputs": [],
   "source": [
    "from sklearn.metrics import mean_squared_error"
   ]
  },
  {
   "cell_type": "code",
   "execution_count": 694,
   "metadata": {},
   "outputs": [],
   "source": [
    "mse_general = mean_squared_error(df[['my_values']], df[['simlex_normalize']])"
   ]
  },
  {
   "cell_type": "code",
   "execution_count": 695,
   "metadata": {},
   "outputs": [
    {
     "data": {
      "text/plain": [
       "0.12713924724052572"
      ]
     },
     "execution_count": 695,
     "metadata": {},
     "output_type": "execute_result"
    }
   ],
   "source": [
    "mse_general"
   ]
  },
  {
   "cell_type": "code",
   "execution_count": 696,
   "metadata": {},
   "outputs": [],
   "source": [
    "all_mse = []\n",
    "for i in range(len(df['my_values'])):\n",
    "    mse = mean_squared_error([df['my_values'][i]], [df['simlex_normalize'][i]])\n",
    "    all_mse.append(mse)"
   ]
  },
  {
   "cell_type": "code",
   "execution_count": 697,
   "metadata": {},
   "outputs": [],
   "source": [
    "df['mse'] = all_mse"
   ]
  },
  {
   "cell_type": "markdown",
   "metadata": {},
   "source": [
    "### Пункт 3."
   ]
  },
  {
   "cell_type": "code",
   "execution_count": 819,
   "metadata": {},
   "outputs": [],
   "source": [
    "class SkipgramDataset(Dataset):\n",
    "\n",
    "    def __init__(self,\n",
    "                 corpus,\n",
    "                 word2index,\n",
    "                 window=2,\n",
    "                 unk_token='UNK',\n",
    "                 collect_verbose=True):\n",
    "        \n",
    "        self.corpus = corpus\n",
    "        self.word2index = word2index\n",
    "        self.index2word = {value: key for key, value in self.word2index.items()}\n",
    "        self.window = window\n",
    "\n",
    "        self.unk_token = unk_token\n",
    "        self.unk_index = self.word2index[self.unk_token]\n",
    "\n",
    "\n",
    "        self.collect_verbose = collect_verbose\n",
    "\n",
    "        self.data = []\n",
    "\n",
    "        self.collect_data()\n",
    "\n",
    "    def __len__(self):\n",
    "\n",
    "        return len(self.data)\n",
    "\n",
    "    def _split_function(self, tokenized_text):\n",
    "        \n",
    "        # CODE\n",
    "        # вставить здесь функцию, которые вы писали раньше\n",
    "\n",
    "        splits = []\n",
    "        \n",
    "        for i in range(len(tokenized_text)):\n",
    "            if i-self.window < 1:\n",
    "                start = 0  \n",
    "            else:\n",
    "                start = i-self.window\n",
    "                \n",
    "            if i+1+self.window < len(tokenized_text)-1:\n",
    "                finish = i+1+self.window\n",
    "            else:\n",
    "                finish = len(tokenized_text)-1\n",
    "                \n",
    "            left_context = tokenized_text[start:i]\n",
    "            word = tokenized_text[i]\n",
    "            right_context = tokenized_text[i+1:finish]\n",
    "            \n",
    "            for el in left_context+right_context:\n",
    "                splits.append((el, word))\n",
    "\n",
    "        return splits\n",
    "\n",
    "    def indexing(self, tokenized_text):\n",
    "\n",
    "        return [self.word2index[token] if token in self.word2index else self.unk_index for token in tokenized_text]\n",
    "\n",
    "    def collect_data(self):\n",
    "\n",
    "        corpus = tqdm(self.corpus, disable=not self.collect_verbose)\n",
    "\n",
    "        for tokenized_text in corpus:\n",
    "            indexed_text = self.indexing(tokenized_text)\n",
    "            skipgram_examples = self._split_function(indexed_text)\n",
    "\n",
    "            self.data.extend(skipgram_examples)\n",
    "\n",
    "    def __getitem__(self, idx):\n",
    "        \n",
    "        # CODE\n",
    "        context, central_word = self.data[idx]\n",
    "        \n",
    "        return context, central_word"
   ]
  },
  {
   "cell_type": "code",
   "execution_count": 820,
   "metadata": {},
   "outputs": [
    {
     "name": "stderr",
     "output_type": "stream",
     "text": [
      "100%|██████████| 100000/100000 [00:01<00:00, 87335.41it/s]\n"
     ]
    }
   ],
   "source": [
    "dataset2 = SkipgramDataset(corpus, word2index)"
   ]
  },
  {
   "cell_type": "code",
   "execution_count": 821,
   "metadata": {},
   "outputs": [],
   "source": [
    "dataset_loader2 = DataLoader(dataset2, shuffle=True, batch_size=1024)"
   ]
  },
  {
   "cell_type": "code",
   "execution_count": 822,
   "metadata": {},
   "outputs": [],
   "source": [
    "for x, y in dataset_loader2:\n",
    "    break"
   ]
  },
  {
   "cell_type": "code",
   "execution_count": 823,
   "metadata": {},
   "outputs": [],
   "source": [
    "EMBEDDING_DIM = 30"
   ]
  },
  {
   "cell_type": "code",
   "execution_count": 824,
   "metadata": {},
   "outputs": [],
   "source": [
    "model2 = SkipGram(vocab_size=len(word2index), embedding_dim=EMBEDDING_DIM)"
   ]
  },
  {
   "cell_type": "code",
   "execution_count": 825,
   "metadata": {},
   "outputs": [
    {
     "data": {
      "text/plain": [
       "torch.Size([1024, 13076])"
      ]
     },
     "execution_count": 825,
     "metadata": {},
     "output_type": "execute_result"
    }
   ],
   "source": [
    "with torch.no_grad():\n",
    "    pred = model2(x)\n",
    "\n",
    "pred.shape"
   ]
  },
  {
   "cell_type": "code",
   "execution_count": 826,
   "metadata": {},
   "outputs": [],
   "source": [
    "optimizer = torch.optim.Adam(params=model2.parameters(), lr=0.0001)\n",
    "\n",
    "# aka loss function\n",
    "criterion = torch.nn.CrossEntropyLoss()"
   ]
  },
  {
   "cell_type": "code",
   "execution_count": 827,
   "metadata": {},
   "outputs": [
    {
     "name": "stderr",
     "output_type": "stream",
     "text": [
      "Epoch 1: 100%|██████████| 2783148/2783148 [05:13<00:00, 8867.11it/s, loss=7.57]\n",
      "Epoch 2: 100%|██████████| 2783148/2783148 [05:13<00:00, 8879.94it/s, loss=7.31]\n",
      "Epoch 3: 100%|██████████| 2783148/2783148 [05:13<00:00, 8868.24it/s, loss=7.24]\n",
      "Epoch 4: 100%|██████████| 2783148/2783148 [05:20<00:00, 8682.49it/s, loss=7.1] \n"
     ]
    }
   ],
   "source": [
    "epochs = 4\n",
    "\n",
    "losses = []\n",
    "\n",
    "for n_epoch in range(epochs):\n",
    "\n",
    "    try:\n",
    "\n",
    "        progress_bar = tqdm(total=len(dataset_loader2.dataset), desc='Epoch {}'.format(n_epoch + 1))\n",
    "\n",
    "        for x, y in dataset_loader2:\n",
    "\n",
    "            # CODE\n",
    "            pred = model2(x)\n",
    "            loss = criterion(pred, y)\n",
    "            \n",
    "            # CODE\n",
    "            loss.backward()\n",
    "            optimizer.step()\n",
    "            \n",
    "            losses.append(loss.item())\n",
    "            \n",
    "            progress_bar.set_postfix(loss=np.mean(losses[-100:]))\n",
    "\n",
    "            progress_bar.update(x.shape[0])\n",
    "\n",
    "        progress_bar.close()\n",
    "\n",
    "    except KeyboardInterrupt:\n",
    "\n",
    "        progress_bar.close()\n",
    "        break"
   ]
  },
  {
   "cell_type": "code",
   "execution_count": 828,
   "metadata": {},
   "outputs": [
    {
     "data": {
      "text/plain": [
       "[<matplotlib.lines.Line2D at 0x7fc29d4a7410>]"
      ]
     },
     "execution_count": 828,
     "metadata": {},
     "output_type": "execute_result"
    }
   ],
   "source": [
    "plt.title('SkipGram Training Process')\n",
    "plt.xlabel('Itearations')\n",
    "plt.ylabel('Loss')\n",
    "plt.grid()\n",
    "plt.plot(losses)"
   ]
  },
  {
   "cell_type": "code",
   "execution_count": 829,
   "metadata": {},
   "outputs": [],
   "source": [
    "embedding_matrix2 = model2.in_embedding.weight.detach()"
   ]
  },
  {
   "cell_type": "code",
   "execution_count": 830,
   "metadata": {},
   "outputs": [],
   "source": [
    "import csv\n",
    "with open('ru_simlex965_tagged.tsv') as f:\n",
    "    corpus2 = list(csv.reader(f, delimiter='\\t'))\n",
    "    cos_sim_simlex2 = []\n",
    "    for el in corpus2:\n",
    "        word1 = el[0].replace('_NOUN','').replace('_VERB','').replace('_ADJ','')\n",
    "        word2 = el[1].replace('_NOUN','').replace('_VERB','').replace('_ADJ','')\n",
    "        try:\n",
    "            sim2 = cos_sim(embedding_matrix2, word2index, word1, word2)\n",
    "            cos_sim_simlex2.append(sim2)\n",
    "        except KeyError:\n",
    "            pass"
   ]
  },
  {
   "cell_type": "code",
   "execution_count": 831,
   "metadata": {},
   "outputs": [],
   "source": [
    "df['model2'] = cos_sim_simlex2"
   ]
  },
  {
   "cell_type": "code",
   "execution_count": 832,
   "metadata": {},
   "outputs": [],
   "source": [
    "mse_general2 = mean_squared_error(df[['model2']], df[['simlex_normalize']])"
   ]
  },
  {
   "cell_type": "code",
   "execution_count": 833,
   "metadata": {},
   "outputs": [
    {
     "data": {
      "text/plain": [
       "0.12713924724052572"
      ]
     },
     "execution_count": 833,
     "metadata": {},
     "output_type": "execute_result"
    }
   ],
   "source": [
    "mse_general # model 1"
   ]
  },
  {
   "cell_type": "code",
   "execution_count": 834,
   "metadata": {},
   "outputs": [
    {
     "data": {
      "text/plain": [
       "0.11264383265681631"
      ]
     },
     "execution_count": 834,
     "metadata": {},
     "output_type": "execute_result"
    }
   ],
   "source": [
    "mse_general2 # model 2 is better"
   ]
  },
  {
   "cell_type": "code",
   "execution_count": 835,
   "metadata": {},
   "outputs": [],
   "source": [
    "all_mse2 = []\n",
    "for i in range(len(df['model2'])):\n",
    "    mse = mean_squared_error([df['model2'][i]], [df['simlex_normalize'][i]])\n",
    "    all_mse2.append(mse)"
   ]
  },
  {
   "cell_type": "code",
   "execution_count": 836,
   "metadata": {},
   "outputs": [],
   "source": [
    "df['mse_model2'] = all_mse2"
   ]
  },
  {
   "cell_type": "code",
   "execution_count": 837,
   "metadata": {},
   "outputs": [
    {
     "data": {
      "text/html": [
       "<div>\n",
       "<style scoped>\n",
       "    .dataframe tbody tr th:only-of-type {\n",
       "        vertical-align: middle;\n",
       "    }\n",
       "\n",
       "    .dataframe tbody tr th {\n",
       "        vertical-align: top;\n",
       "    }\n",
       "\n",
       "    .dataframe thead th {\n",
       "        text-align: right;\n",
       "    }\n",
       "</style>\n",
       "<table border=\"1\" class=\"dataframe\">\n",
       "  <thead>\n",
       "    <tr style=\"text-align: right;\">\n",
       "      <th></th>\n",
       "      <th>word1</th>\n",
       "      <th>word2</th>\n",
       "      <th>my_values</th>\n",
       "      <th>simlex_normalize</th>\n",
       "      <th>mse</th>\n",
       "      <th>model2</th>\n",
       "      <th>mse_model2</th>\n",
       "    </tr>\n",
       "  </thead>\n",
       "  <tbody>\n",
       "    <tr>\n",
       "      <th>0</th>\n",
       "      <td>август</td>\n",
       "      <td>месяц</td>\n",
       "      <td>0.619248</td>\n",
       "      <td>0.287298</td>\n",
       "      <td>0.110190</td>\n",
       "      <td>0.627314</td>\n",
       "      <td>0.115610</td>\n",
       "    </tr>\n",
       "    <tr>\n",
       "      <th>1</th>\n",
       "      <td>автомобиль</td>\n",
       "      <td>гудок</td>\n",
       "      <td>0.517586</td>\n",
       "      <td>0.186492</td>\n",
       "      <td>0.109623</td>\n",
       "      <td>0.301447</td>\n",
       "      <td>0.013215</td>\n",
       "    </tr>\n",
       "    <tr>\n",
       "      <th>2</th>\n",
       "      <td>автомобиль</td>\n",
       "      <td>такси</td>\n",
       "      <td>0.324775</td>\n",
       "      <td>0.418347</td>\n",
       "      <td>0.008756</td>\n",
       "      <td>0.234795</td>\n",
       "      <td>0.033691</td>\n",
       "    </tr>\n",
       "    <tr>\n",
       "      <th>3</th>\n",
       "      <td>автомобиль</td>\n",
       "      <td>велосипед</td>\n",
       "      <td>0.351027</td>\n",
       "      <td>0.139113</td>\n",
       "      <td>0.044908</td>\n",
       "      <td>0.177358</td>\n",
       "      <td>0.001463</td>\n",
       "    </tr>\n",
       "    <tr>\n",
       "      <th>4</th>\n",
       "      <td>автомобиль</td>\n",
       "      <td>мост</td>\n",
       "      <td>0.289100</td>\n",
       "      <td>0.115927</td>\n",
       "      <td>0.029989</td>\n",
       "      <td>0.064406</td>\n",
       "      <td>0.002654</td>\n",
       "    </tr>\n",
       "    <tr>\n",
       "      <th>...</th>\n",
       "      <td>...</td>\n",
       "      <td>...</td>\n",
       "      <td>...</td>\n",
       "      <td>...</td>\n",
       "      <td>...</td>\n",
       "      <td>...</td>\n",
       "      <td>...</td>\n",
       "    </tr>\n",
       "    <tr>\n",
       "      <th>493</th>\n",
       "      <td>юбилей</td>\n",
       "      <td>год</td>\n",
       "      <td>0.321373</td>\n",
       "      <td>0.271169</td>\n",
       "      <td>0.002520</td>\n",
       "      <td>0.384721</td>\n",
       "      <td>0.012894</td>\n",
       "    </tr>\n",
       "    <tr>\n",
       "      <th>494</th>\n",
       "      <td>юбилей</td>\n",
       "      <td>дата</td>\n",
       "      <td>0.310182</td>\n",
       "      <td>0.667339</td>\n",
       "      <td>0.127561</td>\n",
       "      <td>0.198474</td>\n",
       "      <td>0.219834</td>\n",
       "    </tr>\n",
       "    <tr>\n",
       "      <th>495</th>\n",
       "      <td>юг</td>\n",
       "      <td>север</td>\n",
       "      <td>0.272047</td>\n",
       "      <td>0.000000</td>\n",
       "      <td>0.074010</td>\n",
       "      <td>0.259204</td>\n",
       "      <td>0.067187</td>\n",
       "    </tr>\n",
       "    <tr>\n",
       "      <th>496</th>\n",
       "      <td>юрист</td>\n",
       "      <td>банкир</td>\n",
       "      <td>0.766166</td>\n",
       "      <td>0.115927</td>\n",
       "      <td>0.422810</td>\n",
       "      <td>0.320927</td>\n",
       "      <td>0.042025</td>\n",
       "    </tr>\n",
       "    <tr>\n",
       "      <th>497</th>\n",
       "      <td>язык</td>\n",
       "      <td>горло</td>\n",
       "      <td>0.412783</td>\n",
       "      <td>0.139113</td>\n",
       "      <td>0.074895</td>\n",
       "      <td>0.526600</td>\n",
       "      <td>0.150147</td>\n",
       "    </tr>\n",
       "  </tbody>\n",
       "</table>\n",
       "<p>498 rows × 7 columns</p>\n",
       "</div>"
      ],
      "text/plain": [
       "          word1      word2  my_values  simlex_normalize       mse    model2  \\\n",
       "0        август      месяц   0.619248          0.287298  0.110190  0.627314   \n",
       "1    автомобиль      гудок   0.517586          0.186492  0.109623  0.301447   \n",
       "2    автомобиль      такси   0.324775          0.418347  0.008756  0.234795   \n",
       "3    автомобиль  велосипед   0.351027          0.139113  0.044908  0.177358   \n",
       "4    автомобиль       мост   0.289100          0.115927  0.029989  0.064406   \n",
       "..          ...        ...        ...               ...       ...       ...   \n",
       "493      юбилей        год   0.321373          0.271169  0.002520  0.384721   \n",
       "494      юбилей       дата   0.310182          0.667339  0.127561  0.198474   \n",
       "495          юг      север   0.272047          0.000000  0.074010  0.259204   \n",
       "496       юрист     банкир   0.766166          0.115927  0.422810  0.320927   \n",
       "497        язык      горло   0.412783          0.139113  0.074895  0.526600   \n",
       "\n",
       "     mse_model2  \n",
       "0      0.115610  \n",
       "1      0.013215  \n",
       "2      0.033691  \n",
       "3      0.001463  \n",
       "4      0.002654  \n",
       "..          ...  \n",
       "493    0.012894  \n",
       "494    0.219834  \n",
       "495    0.067187  \n",
       "496    0.042025  \n",
       "497    0.150147  \n",
       "\n",
       "[498 rows x 7 columns]"
      ]
     },
     "execution_count": 837,
     "metadata": {},
     "output_type": "execute_result"
    }
   ],
   "source": [
    "df"
   ]
  },
  {
   "cell_type": "markdown",
   "metadata": {},
   "source": [
    "В столбце my_values лежат значения первой модели, которую нужно было построить изначально. В столбце simlex_nomalize лежат отнормированные значения simlex корпуса. В столбце model2 лежат значения второй модели, где batch_size = 1024, window = 2, embedding_dim = 30, epochs = 4.\n",
    "MSE второй модели ниже, чем MSE первой модели."
   ]
  },
  {
   "cell_type": "code",
   "execution_count": null,
   "metadata": {},
   "outputs": [],
   "source": []
  }
 ],
 "metadata": {
  "kernelspec": {
   "display_name": "Python 3",
   "language": "python",
   "name": "python3"
  },
  "language_info": {
   "codemirror_mode": {
    "name": "ipython",
    "version": 3
   },
   "file_extension": ".py",
   "mimetype": "text/x-python",
   "name": "python",
   "nbconvert_exporter": "python",
   "pygments_lexer": "ipython3",
   "version": "3.7.4"
  }
 },
 "nbformat": 4,
 "nbformat_minor": 2
}
